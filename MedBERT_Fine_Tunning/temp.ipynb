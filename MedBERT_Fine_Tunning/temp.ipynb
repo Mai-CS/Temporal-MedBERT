{
 "cells": [
  {
   "attachments": {},
   "cell_type": "markdown",
   "metadata": {},
   "source": [
    "## Convert pkl to txt"
   ]
  },
  {
   "cell_type": "code",
   "execution_count": null,
   "metadata": {},
   "outputs": [],
   "source": [
    "import pickle as pkl\n",
    "import pandas as pd\n",
    "\n",
    "temp = pkl.load(\n",
    "    open(\n",
    "        \"/Users/mai/Projects/GitHub/Temporal-MedBERT/MedBERT_Pretraining/medbert_pretraining_vocabfile\",\n",
    "        \"rb\",\n",
    "    ),\n",
    "    encoding=\"bytes\",\n",
    ")\n",
    "\n",
    "temp"
   ]
  },
  {
   "cell_type": "code",
   "execution_count": null,
   "metadata": {},
   "outputs": [],
   "source": [
    "import pprint\n",
    "\n",
    "with open(\"out.txt\", \"a\") as f:\n",
    "    pprint.pprint(temp, stream=f)\n"
   ]
  },
  {
   "attachments": {},
   "cell_type": "markdown",
   "metadata": {},
   "source": [
    "## Undersampling"
   ]
  },
  {
   "cell_type": "code",
   "execution_count": 9,
   "metadata": {},
   "outputs": [
    {
     "name": "stdout",
     "output_type": "stream",
     "text": [
      "<class 'pandas.core.frame.DataFrame'>\n",
      "RangeIndex: 75336 entries, 0 to 75335\n",
      "Data columns (total 7 columns):\n",
      " #   Column          Non-Null Count  Dtype  \n",
      "---  ------          --------------  -----  \n",
      " 0   subject_id      75336 non-null  int64  \n",
      " 1   admittime       75336 non-null  object \n",
      " 2   dischtime       75336 non-null  object \n",
      " 3   interpretation  75335 non-null  float64\n",
      " 4   diagnosis       75335 non-null  object \n",
      " 5   seq_num         75335 non-null  float64\n",
      " 6   num_prod        75335 non-null  float64\n",
      "dtypes: float64(3), int64(1), object(3)\n",
      "memory usage: 4.0+ MB\n"
     ]
    }
   ],
   "source": [
    "import pandas as pd\n",
    "\n",
    "# class count\n",
    "df = pd.read_csv(\n",
    "    \"/Users/mai/Projects/GitHub/Temporal-MedBERT/data/finetuning_data_updated/Gentacimin_finetunining_dataset.csv\",\n",
    "    sep=\"\\t\",\n",
    "    header=0,\n",
    ")\n",
    "df.info()\n",
    "count_class_0, count_class_1 = df[\"interpretation\"].value_counts()\n",
    "\n",
    "# separate according to `label`\n",
    "df_class_0 = df[df[\"interpretation\"] == 1]\n",
    "df_class_1 = df[df[\"interpretation\"] == 0]\n",
    "\n",
    "# sample only from class 0 quantity of rows of class 1\n",
    "df_class_0_under = df_class_0.sample(count_class_1)\n",
    "df_test_under = pd.concat([df_class_0_under, df_class_1], axis=0)\n"
   ]
  },
  {
   "cell_type": "code",
   "execution_count": 10,
   "metadata": {},
   "outputs": [
    {
     "data": {
      "text/plain": [
       "0.0    8359\n",
       "1.0    8359\n",
       "Name: interpretation, dtype: int64"
      ]
     },
     "execution_count": 10,
     "metadata": {},
     "output_type": "execute_result"
    }
   ],
   "source": [
    "df_test_under[\"interpretation\"].value_counts()\n"
   ]
  },
  {
   "cell_type": "code",
   "execution_count": 11,
   "metadata": {},
   "outputs": [],
   "source": [
    "df_test_under.to_csv(\n",
    "    \"/Users/mai/Projects/GitHub/Temporal-MedBERT/data/temp.csv\",\n",
    "    sep=\"\\t\",\n",
    "    index=False,\n",
    ")"
   ]
  },
  {
   "cell_type": "code",
   "execution_count": null,
   "metadata": {},
   "outputs": [],
   "source": []
  }
 ],
 "metadata": {
  "kernelspec": {
   "display_name": "env3.7",
   "language": "python",
   "name": "python3"
  },
  "language_info": {
   "codemirror_mode": {
    "name": "ipython",
    "version": 3
   },
   "file_extension": ".py",
   "mimetype": "text/x-python",
   "name": "python",
   "nbconvert_exporter": "python",
   "pygments_lexer": "ipython3",
   "version": "3.7.0"
  },
  "orig_nbformat": 4,
  "vscode": {
   "interpreter": {
    "hash": "6eb2b2311d4b9a74090fa7d38dc2432cb59bcd044a0102085893447cdae66ff1"
   }
  }
 },
 "nbformat": 4,
 "nbformat_minor": 2
}
